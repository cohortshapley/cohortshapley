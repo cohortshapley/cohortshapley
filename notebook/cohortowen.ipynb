{
  "nbformat": 4,
  "nbformat_minor": 0,
  "metadata": {
    "colab": {
      "provenance": []
    },
    "kernelspec": {
      "name": "python3",
      "display_name": "Python 3"
    },
    "language_info": {
      "name": "python"
    }
  },
  "cells": [
    {
      "cell_type": "code",
      "execution_count": 1,
      "metadata": {
        "id": "0V-kX4wiy2M4"
      },
      "outputs": [],
      "source": [
        "from cohortshapley import dataset\n",
        "from cohortshapley import realistic\n",
        "from cohortshapley import sampling\n",
        "from cohortshapley import similarity\n",
        "from cohortshapley import baselineshapley as bs\n",
        "from cohortshapley import cohortshapley as cs\n",
        "from cohortshapley import similarity\n",
        "from cohortshapley import figure\n",
        "from cohortshapley import varianceshapley as vs\n",
        "from cohortshapley import cohortowen as co\n",
        "import numpy as np"
      ]
    },
    {
      "cell_type": "code",
      "source": [
        "X,Y,categorical = dataset.titanic()"
      ],
      "metadata": {
        "id": "jfH0ih9lzyY8"
      },
      "execution_count": 2,
      "outputs": []
    },
    {
      "cell_type": "code",
      "source": [
        "from sklearn.linear_model import LogisticRegression\n",
        "\n",
        "def simple_logistic_regression(X,Y):\n",
        "    # generate prediction model using Logistic Regression\n",
        "    model = LogisticRegression(random_state=0).fit(X.values, Y.flatten())\n",
        "    f = lambda x: model.predict_proba(x).T[1].reshape(-1,1)\n",
        "    return model, f"
      ],
      "metadata": {
        "id": "06Wdk27Zz08c"
      },
      "execution_count": 3,
      "outputs": []
    },
    {
      "cell_type": "code",
      "source": [
        "model, f = simple_logistic_regression(X,Y)"
      ],
      "metadata": {
        "id": "Sg5eg-sLz28F"
      },
      "execution_count": 4,
      "outputs": []
    },
    {
      "cell_type": "code",
      "source": [
        "subject_id = list(range(len(X.index)))\n",
        "subject = X.values[subject_id]"
      ],
      "metadata": {
        "id": "qLXLWe5hz5NA"
      },
      "execution_count": 5,
      "outputs": []
    },
    {
      "cell_type": "code",
      "source": [
        "# set distance threashold for similarity function\n",
        "similarity.ratio=0.1\n",
        "# compute cohort Shapley value\n",
        "cs_obj = cs.CohortShapley(f, similarity.similar_in_distance_cutoff, subject_id, X.values, parallel=4)\n",
        "cs_obj.compute_cohort_shapley()"
      ],
      "metadata": {
        "colab": {
          "base_uri": "https://localhost:8080/"
        },
        "id": "Zio6lPYyz7io",
        "outputId": "7916e2bf-fa9b-40a0-9455-2b95841477b5"
      },
      "execution_count": 6,
      "outputs": [
        {
          "output_type": "stream",
          "name": "stdout",
          "text": [
            "use given model to predict y.\n",
            "parallel processing with 4 processes\n",
            "use given y values instead of model prediction.use given y values instead of model prediction.\n",
            "use given y values instead of model prediction.\n",
            "use given y values instead of model prediction."
          ]
        },
        {
          "output_type": "stream",
          "name": "stderr",
          "text": [
            "\r  0%|          | 0/261 [00:00<?, ?it/s]"
          ]
        },
        {
          "output_type": "stream",
          "name": "stdout",
          "text": [
            "\n"
          ]
        },
        {
          "output_type": "stream",
          "name": "stderr",
          "text": [
            "\r  0%|          | 0/262 [00:00<?, ?it/s]"
          ]
        },
        {
          "output_type": "stream",
          "name": "stdout",
          "text": [
            "\n"
          ]
        },
        {
          "output_type": "stream",
          "name": "stderr",
          "text": [
            "100%|██████████| 261/261 [00:50<00:00,  5.19it/s]\n",
            "100%|██████████| 261/261 [00:50<00:00,  5.15it/s]\n",
            "100%|██████████| 262/262 [00:50<00:00,  5.14it/s]\n",
            "100%|██████████| 261/261 [00:51<00:00,  5.12it/s]\n"
          ]
        }
      ]
    },
    {
      "cell_type": "code",
      "source": [
        "X.columns"
      ],
      "metadata": {
        "colab": {
          "base_uri": "https://localhost:8080/"
        },
        "id": "AKNr1sJw0CTh",
        "outputId": "ada3efab-8df5-49cd-e3a8-cc3b4c93b7c0"
      },
      "execution_count": 7,
      "outputs": [
        {
          "output_type": "execute_result",
          "data": {
            "text/plain": [
              "Index(['pclass', 'sex', 'age', 'sibsp', 'parch', 'fare'], dtype='object')"
            ]
          },
          "metadata": {},
          "execution_count": 7
        }
      ]
    },
    {
      "cell_type": "code",
      "source": [
        "def extractDigits(lst):\n",
        "    return list(map(lambda el:[el], lst))"
      ],
      "metadata": {
        "id": "MKZ5FktL0t5d"
      },
      "execution_count": 8,
      "outputs": []
    },
    {
      "cell_type": "code",
      "source": [
        "#three union structures, the first two should match cohort shapley\n",
        "titanic_union_structure1 = extractDigits(range(6))\n",
        "titanic_union_structure2 = [list(range(6))]\n",
        "titanic_union_structure3 = [[0,5],[3,4],[1],[2]]"
      ],
      "metadata": {
        "id": "pDPcEmRl0Ysg"
      },
      "execution_count": 9,
      "outputs": []
    },
    {
      "cell_type": "code",
      "source": [
        "print(titanic_union_structure1)\n",
        "print(titanic_union_structure2)"
      ],
      "metadata": {
        "colab": {
          "base_uri": "https://localhost:8080/"
        },
        "id": "0Nxrz69g0NWt",
        "outputId": "9bd46857-8f78-409b-b027-25eb39743c76"
      },
      "execution_count": 10,
      "outputs": [
        {
          "output_type": "stream",
          "name": "stdout",
          "text": [
            "[[0], [1], [2], [3], [4], [5]]\n",
            "[[0, 1, 2, 3, 4, 5]]\n"
          ]
        }
      ]
    },
    {
      "cell_type": "code",
      "source": [
        "co_obj1 = co.CohortOwen(titanic_union_structure1,f, similarity.similar_in_distance_cutoff, subject_id, X.values, parallel=4)\n",
        "co_obj2 = co.CohortOwen(titanic_union_structure2,f, similarity.similar_in_distance_cutoff, subject_id, X.values, parallel=4)\n",
        "co_obj3 = co.CohortOwen(titanic_union_structure3,f, similarity.similar_in_distance_cutoff, subject_id, X.values, parallel=4)"
      ],
      "metadata": {
        "colab": {
          "base_uri": "https://localhost:8080/"
        },
        "id": "zSIFVkej04hg",
        "outputId": "b0282d7e-3709-4e3d-89f6-e76f16fa74e1"
      },
      "execution_count": 11,
      "outputs": [
        {
          "output_type": "stream",
          "name": "stdout",
          "text": [
            "use given model to predict y.\n",
            "use given model to predict y.\n",
            "use given model to predict y.\n"
          ]
        }
      ]
    },
    {
      "cell_type": "code",
      "source": [
        "co_obj1.compute_cohort_shapley()"
      ],
      "metadata": {
        "colab": {
          "base_uri": "https://localhost:8080/"
        },
        "id": "eE3HnBP26oJI",
        "outputId": "9767a097-883b-493a-e67c-9c3e8cb25364"
      },
      "execution_count": 12,
      "outputs": [
        {
          "output_type": "stream",
          "name": "stdout",
          "text": [
            "compute Shapley values based on permutations\n",
            "parallel processing with 4 processes\n",
            "use given y values instead of model prediction.use given y values instead of model prediction.use given y values instead of model prediction.\n",
            "\n",
            "use given y values instead of model prediction.\n",
            "compute Shapley values based on permutationscompute Shapley values based on permutations\n",
            "compute Shapley values based on permutations\n",
            "\n",
            "\n",
            "compute Shapley values based on permutations"
          ]
        },
        {
          "output_type": "stream",
          "name": "stderr",
          "text": [
            "\r  0%|          | 0/262 [00:00<?, ?it/s]"
          ]
        },
        {
          "output_type": "stream",
          "name": "stdout",
          "text": [
            "\n"
          ]
        },
        {
          "output_type": "stream",
          "name": "stderr",
          "text": [
            "100%|██████████| 261/261 [01:11<00:00,  3.67it/s]\n",
            "100%|██████████| 261/261 [01:12<00:00,  3.61it/s]\n",
            "100%|██████████| 261/261 [01:13<00:00,  3.56it/s]\n",
            "100%|██████████| 262/262 [01:13<00:00,  3.56it/s]\n"
          ]
        }
      ]
    },
    {
      "cell_type": "code",
      "source": [
        "co_obj2.compute_cohort_shapley()"
      ],
      "metadata": {
        "colab": {
          "base_uri": "https://localhost:8080/"
        },
        "id": "9XqJnCDC6_53",
        "outputId": "f546464d-ff4b-416b-d69e-f0265dc496bd"
      },
      "execution_count": 13,
      "outputs": [
        {
          "output_type": "stream",
          "name": "stdout",
          "text": [
            "compute Shapley values based on permutations\n",
            "parallel processing with 4 processes\n",
            "use given y values instead of model prediction.use given y values instead of model prediction.use given y values instead of model prediction.\n",
            "compute Shapley values based on permutations\n",
            "\n"
          ]
        },
        {
          "output_type": "stream",
          "name": "stderr",
          "text": [
            "\r  0%|          | 0/262 [00:00<?, ?it/s]"
          ]
        },
        {
          "output_type": "stream",
          "name": "stdout",
          "text": [
            "\n",
            "use given y values instead of model prediction.compute Shapley values based on permutationscompute Shapley values based on permutations\n",
            "\n",
            "\n",
            "compute Shapley values based on permutations\n"
          ]
        },
        {
          "output_type": "stream",
          "name": "stderr",
          "text": [
            "100%|██████████| 262/262 [01:15<00:00,  3.46it/s]\n",
            "100%|██████████| 261/261 [01:15<00:00,  3.45it/s]\n",
            "100%|██████████| 261/261 [01:15<00:00,  3.44it/s]\n",
            "100%|██████████| 261/261 [01:15<00:00,  3.44it/s]\n"
          ]
        }
      ]
    },
    {
      "cell_type": "code",
      "source": [
        "co_obj3.compute_cohort_shapley()"
      ],
      "metadata": {
        "colab": {
          "base_uri": "https://localhost:8080/"
        },
        "id": "kSR4luJU7Cbf",
        "outputId": "3b880d04-e422-4a9d-8d91-24ae6dcd4ca0"
      },
      "execution_count": 14,
      "outputs": [
        {
          "output_type": "stream",
          "name": "stdout",
          "text": [
            "compute Shapley values based on permutations\n",
            "parallel processing with 4 processes\n",
            "use given y values instead of model prediction.use given y values instead of model prediction.use given y values instead of model prediction.use given y values instead of model prediction.\n",
            "\n",
            "compute Shapley values based on permutationscompute Shapley values based on permutations\n",
            "\n",
            "\n",
            "compute Shapley values based on permutations\n"
          ]
        },
        {
          "output_type": "stream",
          "name": "stderr",
          "text": [
            "\r  0%|          | 0/261 [00:00<?, ?it/s]"
          ]
        },
        {
          "output_type": "stream",
          "name": "stdout",
          "text": [
            "\n",
            "compute Shapley values based on permutations"
          ]
        },
        {
          "output_type": "stream",
          "name": "stderr",
          "text": [
            "  0%|          | 0/262 [00:00<?, ?it/s]"
          ]
        },
        {
          "output_type": "stream",
          "name": "stdout",
          "text": [
            "\n"
          ]
        },
        {
          "output_type": "stream",
          "name": "stderr",
          "text": [
            "100%|██████████| 262/262 [00:36<00:00,  7.09it/s]\n",
            " 98%|█████████▊| 255/261 [00:37<00:01,  5.40it/s]\n",
            "100%|██████████| 261/261 [00:37<00:00,  6.95it/s]\n",
            "100%|██████████| 261/261 [00:37<00:00,  6.94it/s]\n"
          ]
        }
      ]
    },
    {
      "cell_type": "code",
      "source": [
        "#they match as expected (up to some floating point uncertainty after 11 digits)\n",
        "np.product(np.round(cs_obj.shapley_values,11) == np.round(co_obj1.shapley_values,11))"
      ],
      "metadata": {
        "colab": {
          "base_uri": "https://localhost:8080/"
        },
        "id": "-SCkvvsu43Y8",
        "outputId": "536750c9-f6bc-42d9-e989-a22d090298b9"
      },
      "execution_count": 15,
      "outputs": [
        {
          "output_type": "execute_result",
          "data": {
            "text/plain": [
              "1"
            ]
          },
          "metadata": {},
          "execution_count": 15
        }
      ]
    },
    {
      "cell_type": "code",
      "source": [
        "#same with 2\n",
        "np.product(np.round(cs_obj.shapley_values,11) == np.round(co_obj2.shapley_values,11))"
      ],
      "metadata": {
        "colab": {
          "base_uri": "https://localhost:8080/"
        },
        "id": "Amvp5qa08t1z",
        "outputId": "d3b7a0f2-85f5-421e-d0f8-03a50a5992a4"
      },
      "execution_count": 16,
      "outputs": [
        {
          "output_type": "execute_result",
          "data": {
            "text/plain": [
              "1"
            ]
          },
          "metadata": {},
          "execution_count": 16
        }
      ]
    },
    {
      "cell_type": "code",
      "source": [
        "co_obj1.shapley_values"
      ],
      "metadata": {
        "colab": {
          "base_uri": "https://localhost:8080/"
        },
        "id": "mLMmFrIo5LFn",
        "outputId": "68f463ac-39f2-4947-86b2-ad583b644c21"
      },
      "execution_count": 17,
      "outputs": [
        {
          "output_type": "execute_result",
          "data": {
            "text/plain": [
              "array([[ 0.11056243,  0.22988071,  0.00861183,  0.00919177, -0.00825117,\n",
              "         0.18718278],\n",
              "       [ 0.11729806, -0.17132534,  0.13500118,  0.0239048 ,  0.07535806,\n",
              "         0.162311  ],\n",
              "       [ 0.09335632,  0.18622282,  0.06834582,  0.0255391 ,  0.0563203 ,\n",
              "         0.13319321],\n",
              "       ...,\n",
              "       [-0.08420768, -0.14395155,  0.00511031, -0.00567139, -0.01718519,\n",
              "        -0.04297643],\n",
              "       [-0.08378296, -0.14012262, -0.00202045, -0.00588476, -0.01707572,\n",
              "        -0.04218951],\n",
              "       [-0.08829549, -0.12763629, -0.01537655, -0.00640022, -0.0173368 ,\n",
              "        -0.04269057]])"
            ]
          },
          "metadata": {},
          "execution_count": 17
        }
      ]
    },
    {
      "cell_type": "code",
      "source": [
        "#We can see structure 3 is different as expected\n",
        "co_obj3.shapley_values"
      ],
      "metadata": {
        "colab": {
          "base_uri": "https://localhost:8080/"
        },
        "id": "Grehlxdd5QDN",
        "outputId": "c4b3721c-bd7d-4228-bffd-38bfc2291a08"
      },
      "execution_count": 18,
      "outputs": [
        {
          "output_type": "execute_result",
          "data": {
            "text/plain": [
              "array([[ 0.10592807,  0.2520752 , -0.00139914,  0.00706344, -0.00903532,\n",
              "         0.1825461 ],\n",
              "       [ 0.11781263, -0.19230006,  0.12263129,  0.04425368,  0.0837949 ,\n",
              "         0.16635531],\n",
              "       [ 0.07606748,  0.19206173,  0.06616942,  0.04451975,  0.06648068,\n",
              "         0.11767849],\n",
              "       ...,\n",
              "       [-0.07794238, -0.15137018,  0.00432093, -0.00804722, -0.0192649 ,\n",
              "        -0.03657818],\n",
              "       [-0.07731778, -0.14774367, -0.00309841, -0.00818168, -0.01911756,\n",
              "        -0.03561693],\n",
              "       [-0.08205516, -0.13594112, -0.0157298 , -0.00862228, -0.01901619,\n",
              "        -0.03637137]])"
            ]
          },
          "metadata": {},
          "execution_count": 18
        }
      ]
    },
    {
      "cell_type": "code",
      "source": [
        "mc_test_num = 500\n",
        "cs_mc_obj = cs.CohortShapley(f, similarity.similar_in_distance_cutoff, subject_id, X.values, parallel=4,mc_num = mc_test_num)\n",
        "co_mc_obj1 = co.CohortOwen(titanic_union_structure1,f, similarity.similar_in_distance_cutoff, subject_id, X.values, parallel=4, mc_num = mc_test_num)\n",
        "co_mc_obj3 = co.CohortOwen(titanic_union_structure3,f, similarity.similar_in_distance_cutoff, subject_id, X.values, parallel=4, mc_num = mc_test_num)"
      ],
      "metadata": {
        "colab": {
          "base_uri": "https://localhost:8080/"
        },
        "id": "Hn2bKoDk9Nax",
        "outputId": "09a35ce8-f1cb-4fa2-b900-0f1fff93274f"
      },
      "execution_count": 19,
      "outputs": [
        {
          "output_type": "stream",
          "name": "stdout",
          "text": [
            "use given model to predict y.\n",
            "use given model to predict y.\n",
            "use given model to predict y.\n"
          ]
        }
      ]
    },
    {
      "cell_type": "code",
      "source": [
        "cs_mc_obj.compute_cohort_shapley()"
      ],
      "metadata": {
        "colab": {
          "base_uri": "https://localhost:8080/"
        },
        "id": "wG00WOJ59-Kz",
        "outputId": "36773d7c-5246-4291-f2ca-a2982fc7d261"
      },
      "execution_count": 20,
      "outputs": [
        {
          "output_type": "stream",
          "name": "stdout",
          "text": [
            "compute Shapley values based on permutations\n",
            "parallel processing with 4 processes\n",
            "use given y values instead of model prediction.use given y values instead of model prediction.\n",
            "compute Shapley values based on permutations\n",
            "\n",
            "compute Shapley values based on permutationsuse given y values instead of model prediction.use given y values instead of model prediction.\n",
            "\n",
            "\n"
          ]
        },
        {
          "output_type": "stream",
          "name": "stderr",
          "text": [
            "\r  0%|          | 0/261 [00:00<?, ?it/s]"
          ]
        },
        {
          "output_type": "stream",
          "name": "stdout",
          "text": [
            "compute Shapley values based on permutations\n"
          ]
        },
        {
          "output_type": "stream",
          "name": "stderr",
          "text": [
            "\r  0%|          | 0/262 [00:00<?, ?it/s]"
          ]
        },
        {
          "output_type": "stream",
          "name": "stdout",
          "text": [
            "compute Shapley values based on permutations\n"
          ]
        },
        {
          "output_type": "stream",
          "name": "stderr",
          "text": [
            "100%|██████████| 261/261 [01:06<00:00,  3.91it/s]\n",
            "100%|██████████| 261/261 [01:07<00:00,  3.86it/s]\n",
            "100%|██████████| 262/262 [01:07<00:00,  3.86it/s]\n",
            "100%|██████████| 261/261 [01:07<00:00,  3.85it/s]\n"
          ]
        }
      ]
    },
    {
      "cell_type": "code",
      "source": [
        "co_mc_obj1.compute_cohort_shapley()"
      ],
      "metadata": {
        "colab": {
          "base_uri": "https://localhost:8080/"
        },
        "id": "bu2l6ciq-EyJ",
        "outputId": "b491629e-2960-474d-dc26-f8ccf7f52ffa"
      },
      "execution_count": 21,
      "outputs": [
        {
          "output_type": "stream",
          "name": "stdout",
          "text": [
            "compute Shapley values based on permutations\n",
            "parallel processing with 4 processes\n",
            "use given y values instead of model prediction.\n",
            "compute Shapley values based on permutationsuse given y values instead of model prediction.\n",
            "use given y values instead of model prediction.use given y values instead of model prediction.\n",
            "\n",
            "\n",
            "compute Shapley values based on permutationscompute Shapley values based on permutations"
          ]
        },
        {
          "output_type": "stream",
          "name": "stderr",
          "text": [
            "\r  0%|          | 0/262 [00:00<?, ?it/s]"
          ]
        },
        {
          "output_type": "stream",
          "name": "stdout",
          "text": [
            "\n",
            "\n",
            "compute Shapley values based on permutations\n"
          ]
        },
        {
          "output_type": "stream",
          "name": "stderr",
          "text": [
            "100%|██████████| 261/261 [01:03<00:00,  4.11it/s]\n",
            "100%|██████████| 261/261 [01:03<00:00,  4.09it/s]\n",
            "100%|██████████| 261/261 [01:04<00:00,  4.08it/s]\n",
            "100%|██████████| 262/262 [01:04<00:00,  4.08it/s]\n"
          ]
        }
      ]
    },
    {
      "cell_type": "code",
      "source": [
        "co_mc_obj3.compute_cohort_shapley()"
      ],
      "metadata": {
        "colab": {
          "base_uri": "https://localhost:8080/"
        },
        "id": "sa2FmMLV-GdQ",
        "outputId": "edadbbd5-cce3-4978-f465-e4ac79ea78e0"
      },
      "execution_count": 22,
      "outputs": [
        {
          "output_type": "stream",
          "name": "stdout",
          "text": [
            "compute Shapley values based on permutations\n",
            "parallel processing with 4 processes\n",
            "use given y values instead of model prediction.use given y values instead of model prediction.\n",
            "\n",
            "compute Shapley values based on permutationsuse given y values instead of model prediction.use given y values instead of model prediction.compute Shapley values based on permutations\n",
            "\n",
            "\n",
            "\n",
            "compute Shapley values based on permutations"
          ]
        },
        {
          "output_type": "stream",
          "name": "stderr",
          "text": [
            "\r  0%|          | 0/261 [00:00<?, ?it/s]"
          ]
        },
        {
          "output_type": "stream",
          "name": "stdout",
          "text": [
            "\n",
            "compute Shapley values based on permutations"
          ]
        },
        {
          "output_type": "stream",
          "name": "stderr",
          "text": [
            "\r  0%|          | 0/262 [00:00<?, ?it/s]"
          ]
        },
        {
          "output_type": "stream",
          "name": "stdout",
          "text": [
            "\n"
          ]
        },
        {
          "output_type": "stream",
          "name": "stderr",
          "text": [
            "100%|██████████| 262/262 [00:51<00:00,  5.11it/s]\n",
            "100%|██████████| 261/261 [00:51<00:00,  5.07it/s]\n",
            "100%|██████████| 261/261 [00:51<00:00,  5.06it/s]\n",
            "100%|██████████| 261/261 [00:51<00:00,  5.06it/s]\n"
          ]
        }
      ]
    },
    {
      "cell_type": "code",
      "source": [
        "cs_mc_obj.shapley_values"
      ],
      "metadata": {
        "colab": {
          "base_uri": "https://localhost:8080/"
        },
        "id": "XPBVj3YB-V13",
        "outputId": "507d37c0-ecf4-4500-87ca-9201c24cacf8"
      },
      "execution_count": 23,
      "outputs": [
        {
          "output_type": "execute_result",
          "data": {
            "text/plain": [
              "array([[ 0.10337342,  0.23100896,  0.00845672,  0.00972722, -0.00893005,\n",
              "         0.19354207],\n",
              "       [ 0.10719047, -0.17105392,  0.13498999,  0.02265206,  0.0748674 ,\n",
              "         0.17390177],\n",
              "       [ 0.0866791 ,  0.18616559,  0.07004549,  0.02348711,  0.05564852,\n",
              "         0.14095174],\n",
              "       ...,\n",
              "       [-0.0809341 , -0.14384591,  0.00504767, -0.00617077, -0.01700487,\n",
              "        -0.04597393],\n",
              "       [-0.08057668, -0.13998576, -0.00219006, -0.00638664, -0.01689608,\n",
              "        -0.04504081],\n",
              "       [-0.08521219, -0.12758574, -0.01519743, -0.00690126, -0.01708687,\n",
              "        -0.04575245]])"
            ]
          },
          "metadata": {},
          "execution_count": 23
        }
      ]
    },
    {
      "cell_type": "code",
      "source": [
        "co_mc_obj1.shapley_values"
      ],
      "metadata": {
        "colab": {
          "base_uri": "https://localhost:8080/"
        },
        "id": "l1qZCu9G-Z9L",
        "outputId": "c0818091-9b03-48ed-f777-37fe38f15e78"
      },
      "execution_count": 25,
      "outputs": [
        {
          "output_type": "execute_result",
          "data": {
            "text/plain": [
              "array([[ 0.10960311,  0.23570953,  0.00744752,  0.00906646, -0.00958393,\n",
              "         0.18493566],\n",
              "       [ 0.11662762, -0.17489011,  0.13025553,  0.02734046,  0.08012109,\n",
              "         0.16309316],\n",
              "       [ 0.09224697,  0.18725324,  0.06497299,  0.02953815,  0.06078496,\n",
              "         0.12818124],\n",
              "       ...,\n",
              "       [-0.08286058, -0.14512938,  0.00508072, -0.00595833, -0.01846278,\n",
              "        -0.04155158],\n",
              "       [-0.08243185, -0.14137288, -0.00207618, -0.00612243, -0.0183703 ,\n",
              "        -0.0407024 ],\n",
              "       [-0.08689716, -0.12925665, -0.01516053, -0.00658196, -0.01853701,\n",
              "        -0.04130261]])"
            ]
          },
          "metadata": {},
          "execution_count": 25
        }
      ]
    },
    {
      "cell_type": "code",
      "source": [
        "print(np.mean(np.abs(cs_obj.shapley_values),axis=0))\n",
        "print(np.mean(np.abs(co_obj3.shapley_values),axis=0))\n",
        "print(np.mean(np.abs(cs_mc_obj.shapley_values),axis=0))\n",
        "print(np.mean(np.abs(co_mc_obj1.shapley_values),axis=0))\n",
        "print(np.mean(np.abs(co_mc_obj3.shapley_values),axis=0))"
      ],
      "metadata": {
        "colab": {
          "base_uri": "https://localhost:8080/"
        },
        "id": "7cI34hjf-dIp",
        "outputId": "cd91f2bb-d34d-4cf8-caab-7f30cf7cdec3"
      },
      "execution_count": 32,
      "outputs": [
        {
          "output_type": "stream",
          "name": "stdout",
          "text": [
            "[0.08878474 0.20438473 0.03683341 0.01775961 0.02689778 0.04904305]\n",
            "[0.08540378 0.20615329 0.03287472 0.02121614 0.02960778 0.04636687]\n",
            "[0.08583624 0.20402881 0.03590333 0.01872919 0.0265624  0.05236259]\n",
            "[0.08794271 0.2051366  0.03614543 0.0177867  0.02854659 0.04845058]\n",
            "[0.08615576 0.20151165 0.03283453 0.02180425 0.03088409 0.04802927]\n"
          ]
        }
      ]
    },
    {
      "cell_type": "code",
      "source": [
        "co_mc_obj3.permutations"
      ],
      "metadata": {
        "colab": {
          "base_uri": "https://localhost:8080/"
        },
        "id": "vn1CL20WAsmH",
        "outputId": "aa946d8a-1e9b-4ca3-a701-ce594b83c380"
      },
      "execution_count": 31,
      "outputs": [
        {
          "output_type": "execute_result",
          "data": {
            "text/plain": [
              "array([[2, 1, 3, 4, 0, 5],\n",
              "       [1, 5, 0, 2, 3, 4],\n",
              "       [5, 0, 3, 4, 1, 2],\n",
              "       ...,\n",
              "       [2, 1, 0, 5, 4, 3],\n",
              "       [1, 5, 0, 2, 3, 4],\n",
              "       [1, 2, 4, 3, 5, 0]])"
            ]
          },
          "metadata": {},
          "execution_count": 31
        }
      ]
    }
  ]
}